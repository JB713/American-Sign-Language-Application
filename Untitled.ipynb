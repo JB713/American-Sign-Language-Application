{
 "cells": [
  {
   "cell_type": "code",
   "execution_count": null,
   "metadata": {},
   "outputs": [],
   "source": [
    "def data():\n",
    "    from sklearn.model_selection import train_test_split\n",
    "    # Split into Train/Test\n",
    "    X_train, X_test, y_train, y_test = train_test_split(X, y, random_state=42, test_size=0.2)    \n",
    "    # Apply One-Hot Encoding for y-categorical variable\n",
    "    label_encoder = LabelEncoder()\n",
    "    label_encoder.fit(y_train)\n",
    "    encoded_y_train = label_encoder.transform(y_train)\n",
    "    encoded_y_test = label_encoder.transform(y_test)\n",
    "    y_train_cat = to_categorical(encoded_y_train)\n",
    "    y_test_cat = to_categorical(encoded_y_test) \n",
    "    # Define data inputs\n",
    "    x_train = X_train\n",
    "    y_train = y_train_cat\n",
    "    x_test = X_test\n",
    "    y_test = y_test_cat\n",
    "    return x_train, x_test, y_train, y_test\n"
   ]
  }
 ],
 "metadata": {
  "kernelspec": {
   "display_name": "Python [conda env:PythonData] *",
   "language": "python",
   "name": "conda-env-PythonData-py"
  },
  "language_info": {
   "codemirror_mode": {
    "name": "ipython",
    "version": 3
   },
   "file_extension": ".py",
   "mimetype": "text/x-python",
   "name": "python",
   "nbconvert_exporter": "python",
   "pygments_lexer": "ipython3",
   "version": "3.8.3"
  }
 },
 "nbformat": 4,
 "nbformat_minor": 4
}
