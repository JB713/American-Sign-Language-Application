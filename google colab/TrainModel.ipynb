{
  "nbformat": 4,
  "nbformat_minor": 0,
  "metadata": {
    "colab": {
      "name": "TrainModel.ipynb",
      "provenance": [],
      "collapsed_sections": [],
      "machine_shape": "hm"
    },
    "kernelspec": {
      "name": "python3",
      "display_name": "Python 3"
    },
    "accelerator": "GPU"
  },
  "cells": [
    {
      "cell_type": "code",
      "metadata": {
        "id": "DE5Z6XFEPJbb"
      },
      "source": [
        "import numpy as np\n",
        "from numpy import load\n",
        "\n",
        "import pandas as pd\n",
        "\n",
        "from google.colab import drive\n",
        "\n",
        "from sklearn.model_selection import train_test_split\n",
        "from sklearn.preprocessing import LabelEncoder\n",
        "\n",
        "from tqdm import tqdm\n",
        "\n",
        "from keras.datasets import mnist\n",
        "from keras.layers.core import Dense, Dropout, Activation\n",
        "from keras.models import Sequential\n",
        "from keras.utils import np_utils\n",
        "\n",
        "from tensorflow.keras.layers import Conv2D\n",
        "from tensorflow.keras.callbacks import EarlyStopping\n",
        "from tensorflow.keras.layers import MaxPooling2D\n",
        "from tensorflow.keras.layers import Flatten\n",
        "from tensorflow.keras.preprocessing import image\n",
        "from tensorflow.keras.utils import to_categorical\n"
      ],
      "execution_count": null,
      "outputs": []
    },
    {
      "cell_type": "code",
      "metadata": {
        "id": "HXGKKNepPugd",
        "outputId": "d95e5c79-1769-4682-9270-550636912717",
        "colab": {
          "base_uri": "https://localhost:8080/",
          "height": 34
        }
      },
      "source": [
        "drive.mount('/content/drive')"
      ],
      "execution_count": null,
      "outputs": [
        {
          "output_type": "stream",
          "text": [
            "Mounted at /content/drive\n"
          ],
          "name": "stdout"
        }
      ]
    },
    {
      "cell_type": "code",
      "metadata": {
        "id": "IER-pJIRQKSI"
      },
      "source": [
        "# load array\n",
        "X_train = load('/content/drive/My Drive/images_for_training/X_train.npy')\n",
        "y_train = load('/content/drive/My Drive/images_for_training/y_train.npy')\n",
        "X_test = load('/content/drive/My Drive/images_for_training/X_test.npy')\n",
        "y_test = load('/content/drive/My Drive/images_for_training/y_test.npy')\n"
      ],
      "execution_count": null,
      "outputs": []
    },
    {
      "cell_type": "code",
      "metadata": {
        "id": "4Yn6iIQBQato"
      },
      "source": [
        "model = Sequential()\n",
        "model.add(\n",
        "        Conv2D(\n",
        "            26,\n",
        "            kernel_size = (3, 3),\n",
        "            padding = 'valid',\n",
        "            activation = 'relu',\n",
        "            input_shape = (200, 200, 1)\n",
        "        )\n",
        ")\n",
        "model.add(\n",
        "        Conv2D(\n",
        "            26, \n",
        "            kernel_size = (3,3),\n",
        "            padding = \"valid\",\n",
        "            activation='relu'\n",
        "        )\n",
        "    )\n",
        "model.add(\n",
        "        MaxPooling2D(\n",
        "            pool_size = (2, 2)\n",
        "        )\n",
        ")\n",
        "model.add(\n",
        "        Dropout(\n",
        "            0.6108763092812357\n",
        "        )\n",
        ")\n",
        "model.add(Flatten())\n",
        "model.add(\n",
        "        Dense(\n",
        "                256\n",
        "        )\n",
        ")\n",
        "model.add(\n",
        "        Activation(\n",
        "            'tanh'\n",
        "        )\n",
        ")\n",
        "model.add(\n",
        "        Dropout(\n",
        "            0.7371698374615214\n",
        "        )\n",
        ")\n",
        "model.add(Dense(26, activation='softmax'))\n"
      ],
      "execution_count": null,
      "outputs": []
    },
    {
      "cell_type": "code",
      "metadata": {
        "id": "zDIDObdMWPsD",
        "outputId": "e2cd0204-c179-4195-8419-3cf45ba61a11",
        "colab": {
          "base_uri": "https://localhost:8080/",
          "height": 459
        }
      },
      "source": [
        "model.summary()\n"
      ],
      "execution_count": null,
      "outputs": [
        {
          "output_type": "stream",
          "text": [
            "Model: \"sequential\"\n",
            "_________________________________________________________________\n",
            "Layer (type)                 Output Shape              Param #   \n",
            "=================================================================\n",
            "conv2d (Conv2D)              (None, 198, 198, 26)      260       \n",
            "_________________________________________________________________\n",
            "conv2d_1 (Conv2D)            (None, 196, 196, 26)      6110      \n",
            "_________________________________________________________________\n",
            "max_pooling2d (MaxPooling2D) (None, 98, 98, 26)        0         \n",
            "_________________________________________________________________\n",
            "dropout (Dropout)            (None, 98, 98, 26)        0         \n",
            "_________________________________________________________________\n",
            "flatten (Flatten)            (None, 249704)            0         \n",
            "_________________________________________________________________\n",
            "dense (Dense)                (None, 256)               63924480  \n",
            "_________________________________________________________________\n",
            "activation (Activation)      (None, 256)               0         \n",
            "_________________________________________________________________\n",
            "dropout_1 (Dropout)          (None, 256)               0         \n",
            "_________________________________________________________________\n",
            "dense_1 (Dense)              (None, 26)                6682      \n",
            "=================================================================\n",
            "Total params: 63,937,532\n",
            "Trainable params: 63,937,532\n",
            "Non-trainable params: 0\n",
            "_________________________________________________________________\n"
          ],
          "name": "stdout"
        }
      ]
    },
    {
      "cell_type": "code",
      "metadata": {
        "id": "CBzuFQG9WQ20"
      },
      "source": [
        "model.compile(optimizer='adam',\n",
        "              loss='categorical_crossentropy',\n",
        "              metrics=['accuracy'])\n"
      ],
      "execution_count": null,
      "outputs": []
    },
    {
      "cell_type": "code",
      "metadata": {
        "id": "d8WWd_j_WS_N",
        "outputId": "de16fc6e-ba5d-4537-d82a-bb201bafa166",
        "colab": {
          "base_uri": "https://localhost:8080/",
          "height": 1000
        }
      },
      "source": [
        "callback = EarlyStopping(monitor='loss', patience=3)\n",
        "\n",
        "result = model.fit(X_train, y_train, epochs=30, verbose=2, validation_split=0.1, callbacks=[callback])\n"
      ],
      "execution_count": null,
      "outputs": [
        {
          "output_type": "stream",
          "text": [
            "Epoch 1/30\n",
            "WARNING:tensorflow:Callbacks method `on_train_batch_end` is slow compared to the batch time (batch time: 0.0049s vs `on_train_batch_end` time: 0.0137s). Check your callbacks.\n",
            "1755/1755 - 32s - loss: 1.3881 - accuracy: 0.5544 - val_loss: 0.3945 - val_accuracy: 0.8764\n",
            "Epoch 2/30\n",
            "1755/1755 - 32s - loss: 0.5635 - accuracy: 0.7975 - val_loss: 0.2352 - val_accuracy: 0.9369\n",
            "Epoch 3/30\n",
            "1755/1755 - 32s - loss: 0.4057 - accuracy: 0.8562 - val_loss: 0.1595 - val_accuracy: 0.9511\n",
            "Epoch 4/30\n",
            "1755/1755 - 32s - loss: 0.3193 - accuracy: 0.8868 - val_loss: 0.1204 - val_accuracy: 0.9606\n",
            "Epoch 5/30\n",
            "1755/1755 - 32s - loss: 0.2634 - accuracy: 0.9073 - val_loss: 0.1093 - val_accuracy: 0.9659\n",
            "Epoch 6/30\n",
            "1755/1755 - 32s - loss: 0.2266 - accuracy: 0.9199 - val_loss: 0.0970 - val_accuracy: 0.9688\n",
            "Epoch 7/30\n",
            "1755/1755 - 32s - loss: 0.2045 - accuracy: 0.9293 - val_loss: 0.0962 - val_accuracy: 0.9675\n",
            "Epoch 8/30\n",
            "1755/1755 - 32s - loss: 0.1845 - accuracy: 0.9352 - val_loss: 0.0818 - val_accuracy: 0.9716\n",
            "Epoch 9/30\n",
            "1755/1755 - 32s - loss: 0.1583 - accuracy: 0.9445 - val_loss: 0.0643 - val_accuracy: 0.9796\n",
            "Epoch 10/30\n",
            "1755/1755 - 32s - loss: 0.1446 - accuracy: 0.9498 - val_loss: 0.0804 - val_accuracy: 0.9737\n",
            "Epoch 11/30\n",
            "1755/1755 - 32s - loss: 0.1324 - accuracy: 0.9544 - val_loss: 0.0760 - val_accuracy: 0.9750\n",
            "Epoch 12/30\n",
            "1755/1755 - 32s - loss: 0.1205 - accuracy: 0.9578 - val_loss: 0.0696 - val_accuracy: 0.9769\n",
            "Epoch 13/30\n",
            "1755/1755 - 32s - loss: 0.1190 - accuracy: 0.9586 - val_loss: 0.0829 - val_accuracy: 0.9716\n",
            "Epoch 14/30\n",
            "1755/1755 - 32s - loss: 0.1089 - accuracy: 0.9626 - val_loss: 0.0572 - val_accuracy: 0.9787\n",
            "Epoch 15/30\n",
            "1755/1755 - 32s - loss: 0.1072 - accuracy: 0.9627 - val_loss: 0.0660 - val_accuracy: 0.9761\n",
            "Epoch 16/30\n",
            "1755/1755 - 32s - loss: 0.0963 - accuracy: 0.9669 - val_loss: 0.0657 - val_accuracy: 0.9780\n",
            "Epoch 17/30\n",
            "1755/1755 - 32s - loss: 0.0954 - accuracy: 0.9673 - val_loss: 0.0637 - val_accuracy: 0.9772\n",
            "Epoch 18/30\n",
            "1755/1755 - 32s - loss: 0.0900 - accuracy: 0.9695 - val_loss: 0.0603 - val_accuracy: 0.9800\n",
            "Epoch 19/30\n",
            "1755/1755 - 32s - loss: 0.0874 - accuracy: 0.9708 - val_loss: 0.0568 - val_accuracy: 0.9800\n",
            "Epoch 20/30\n",
            "1755/1755 - 32s - loss: 0.0849 - accuracy: 0.9704 - val_loss: 0.0524 - val_accuracy: 0.9824\n",
            "Epoch 21/30\n",
            "1755/1755 - 32s - loss: 0.0801 - accuracy: 0.9729 - val_loss: 0.0562 - val_accuracy: 0.9827\n",
            "Epoch 22/30\n",
            "1755/1755 - 32s - loss: 0.0813 - accuracy: 0.9728 - val_loss: 0.0593 - val_accuracy: 0.9822\n",
            "Epoch 23/30\n",
            "1755/1755 - 32s - loss: 0.0711 - accuracy: 0.9760 - val_loss: 0.0806 - val_accuracy: 0.9736\n",
            "Epoch 24/30\n",
            "1755/1755 - 32s - loss: 0.0704 - accuracy: 0.9761 - val_loss: 0.0706 - val_accuracy: 0.9787\n",
            "Epoch 25/30\n",
            "1755/1755 - 32s - loss: 0.0707 - accuracy: 0.9759 - val_loss: 0.0725 - val_accuracy: 0.9769\n",
            "Epoch 26/30\n",
            "1755/1755 - 31s - loss: 0.0739 - accuracy: 0.9747 - val_loss: 0.0700 - val_accuracy: 0.9803\n",
            "Epoch 27/30\n",
            "1755/1755 - 31s - loss: 0.0667 - accuracy: 0.9777 - val_loss: 0.0628 - val_accuracy: 0.9792\n",
            "Epoch 28/30\n",
            "1755/1755 - 32s - loss: 0.0666 - accuracy: 0.9783 - val_loss: 0.0573 - val_accuracy: 0.9827\n",
            "Epoch 29/30\n",
            "1755/1755 - 31s - loss: 0.0672 - accuracy: 0.9779 - val_loss: 0.0541 - val_accuracy: 0.9838\n",
            "Epoch 30/30\n",
            "1755/1755 - 31s - loss: 0.0666 - accuracy: 0.9785 - val_loss: 0.0554 - val_accuracy: 0.9830\n"
          ],
          "name": "stdout"
        }
      ]
    },
    {
      "cell_type": "code",
      "metadata": {
        "id": "P2eKMg4ZIvu5",
        "outputId": "f0a8fc4f-f8cd-48d2-dfed-93aced28e469",
        "colab": {
          "base_uri": "https://localhost:8080/",
          "height": 156
        }
      },
      "source": [
        "model.save('/content/drive/My Drive/model')"
      ],
      "execution_count": null,
      "outputs": [
        {
          "output_type": "stream",
          "text": [
            "WARNING:tensorflow:From /usr/local/lib/python3.6/dist-packages/tensorflow/python/training/tracking/tracking.py:111: Model.state_updates (from tensorflow.python.keras.engine.training) is deprecated and will be removed in a future version.\n",
            "Instructions for updating:\n",
            "This property should not be used in TensorFlow 2.0, as updates are applied automatically.\n",
            "WARNING:tensorflow:From /usr/local/lib/python3.6/dist-packages/tensorflow/python/training/tracking/tracking.py:111: Layer.updates (from tensorflow.python.keras.engine.base_layer) is deprecated and will be removed in a future version.\n",
            "Instructions for updating:\n",
            "This property should not be used in TensorFlow 2.0, as updates are applied automatically.\n",
            "INFO:tensorflow:Assets written to: /content/drive/My Drive/model/assets\n"
          ],
          "name": "stdout"
        }
      ]
    },
    {
      "cell_type": "code",
      "metadata": {
        "id": "ditJhsrAJrAq"
      },
      "source": [
        "model.save('/content/drive/My Drive/model/model_1.h5', save_format='h5')"
      ],
      "execution_count": null,
      "outputs": []
    },
    {
      "cell_type": "code",
      "metadata": {
        "id": "r0m_e_h8uvaf",
        "outputId": "9fe2daac-d943-42fc-cab3-d73af22ff950",
        "colab": {
          "base_uri": "https://localhost:8080/",
          "height": 34
        }
      },
      "source": [
        "validation_acc = np.amax(result.history['val_accuracy'])\n",
        "print('Best validation acc of epoch:', validation_acc)\n",
        "\n"
      ],
      "execution_count": null,
      "outputs": [
        {
          "output_type": "stream",
          "text": [
            "Best validation acc of epoch: 0.9838141202926636\n"
          ],
          "name": "stdout"
        }
      ]
    },
    {
      "cell_type": "code",
      "metadata": {
        "id": "yRa-nSdVv7g2",
        "outputId": "bf27c904-6650-4a31-d80a-9f78527946d5",
        "colab": {
          "base_uri": "https://localhost:8080/",
          "height": 51
        }
      },
      "source": [
        "images_names = pd.read_csv('/content/drive/My Drive/other_model_data/image_values.csv')\n",
        "labels = images_names['Image Value'].values\n",
        "print(f\"labels: {labels}\")\n",
        "\n",
        "label_encoder = LabelEncoder()\n",
        "label_encoder.fit(labels)\n"
      ],
      "execution_count": null,
      "outputs": [
        {
          "output_type": "stream",
          "text": [
            "labels: ['A' 'A' 'A' ... 'Z' 'Z' 'Z']\n"
          ],
          "name": "stdout"
        },
        {
          "output_type": "execute_result",
          "data": {
            "text/plain": [
              "LabelEncoder()"
            ]
          },
          "metadata": {
            "tags": []
          },
          "execution_count": 12
        }
      ]
    },
    {
      "cell_type": "code",
      "metadata": {
        "id": "PLhJBIOuWqfb",
        "outputId": "309b2bc0-56ef-43bb-bd74-d16129f6607a",
        "colab": {
          "base_uri": "https://localhost:8080/",
          "height": 105
        }
      },
      "source": [
        "alphabet = ['A','B','C','D','E','F','G','H','I','J','K','L','M','N','O','P','Q','R','S','T','U','V','W','X','Y','Z']\n",
        "\n",
        "train_image = []\n",
        "for letter in alphabet:\n",
        "    img = f'/content/drive/My Drive/images_for_testing/{letter}.jpg'\n",
        "    # img = f'/content/drive/My Drive/images_for_testing/{letter}_test.jpg'\n",
        "    img = image.load_img(img, target_size = (200, 200, 1), color_mode = \"grayscale\")\n",
        "    img = image.img_to_array(img)\n",
        "    img = img/255\n",
        "    train_image.append(img)\n",
        "\n",
        "l = len(train_image)\n",
        "print(f\"array size: {l}\")\n",
        "\n",
        "X = np.array(train_image)\n",
        "\n",
        "encoded_predictions = model.predict_classes(X[:])\n",
        "prediction_labels = label_encoder.inverse_transform(encoded_predictions)\n",
        "print(f\"real letters: {alphabet}\")\n",
        "print(f\"Predicted classes: {prediction_labels}\")\n",
        "\n"
      ],
      "execution_count": null,
      "outputs": [
        {
          "output_type": "stream",
          "text": [
            "array size: 26\n",
            "real letters: ['A', 'B', 'C', 'D', 'E', 'F', 'G', 'H', 'I', 'J', 'K', 'L', 'M', 'N', 'O', 'P', 'Q', 'R', 'S', 'T', 'U', 'V', 'W', 'X', 'Y', 'Z']\n",
            "Predicted classes: ['A' 'B' 'C' 'D' 'E' 'F' 'G' 'H' 'I' 'J' 'K' 'L' 'M' 'N' 'O' 'P' 'Q' 'R'\n",
            " 'S' 'T' 'U' 'V' 'W' 'X' 'Y' 'Z']\n"
          ],
          "name": "stdout"
        }
      ]
    },
    {
      "cell_type": "code",
      "metadata": {
        "id": "fy6Wnz4IWzrn"
      },
      "source": [
        ""
      ],
      "execution_count": null,
      "outputs": []
    }
  ]
}