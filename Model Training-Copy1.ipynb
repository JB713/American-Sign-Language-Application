{
 "cells": [
  {
   "cell_type": "code",
   "execution_count": 1,
   "metadata": {},
   "outputs": [],
   "source": [
    "import pandas as pd\n",
    "from sklearn.model_selection import train_test_split\n"
   ]
  },
  {
   "cell_type": "code",
   "execution_count": 2,
   "metadata": {},
   "outputs": [
    {
     "data": {
      "text/html": [
       "<div>\n",
       "<style scoped>\n",
       "    .dataframe tbody tr th:only-of-type {\n",
       "        vertical-align: middle;\n",
       "    }\n",
       "\n",
       "    .dataframe tbody tr th {\n",
       "        vertical-align: top;\n",
       "    }\n",
       "\n",
       "    .dataframe thead th {\n",
       "        text-align: right;\n",
       "    }\n",
       "</style>\n",
       "<table border=\"1\" class=\"dataframe\">\n",
       "  <thead>\n",
       "    <tr style=\"text-align: right;\">\n",
       "      <th></th>\n",
       "      <th>Unnamed: 0</th>\n",
       "      <th>Image Name</th>\n",
       "      <th>Image Value</th>\n",
       "    </tr>\n",
       "  </thead>\n",
       "  <tbody>\n",
       "    <tr>\n",
       "      <th>0</th>\n",
       "      <td>0</td>\n",
       "      <td>Below_A (1)</td>\n",
       "      <td>A</td>\n",
       "    </tr>\n",
       "    <tr>\n",
       "      <th>1</th>\n",
       "      <td>1</td>\n",
       "      <td>Front_A (1)</td>\n",
       "      <td>A</td>\n",
       "    </tr>\n",
       "    <tr>\n",
       "      <th>2</th>\n",
       "      <td>2</td>\n",
       "      <td>Left_A (1)</td>\n",
       "      <td>A</td>\n",
       "    </tr>\n",
       "    <tr>\n",
       "      <th>3</th>\n",
       "      <td>3</td>\n",
       "      <td>Right_A (1)</td>\n",
       "      <td>A</td>\n",
       "    </tr>\n",
       "    <tr>\n",
       "      <th>4</th>\n",
       "      <td>4</td>\n",
       "      <td>Below_A (2)</td>\n",
       "      <td>A</td>\n",
       "    </tr>\n",
       "  </tbody>\n",
       "</table>\n",
       "</div>"
      ],
      "text/plain": [
       "   Unnamed: 0   Image Name Image Value\n",
       "0           0  Below_A (1)           A\n",
       "1           1  Front_A (1)           A\n",
       "2           2   Left_A (1)           A\n",
       "3           3  Right_A (1)           A\n",
       "4           4  Below_A (2)           A"
      ]
     },
     "execution_count": 2,
     "metadata": {},
     "output_type": "execute_result"
    }
   ],
   "source": [
    "# Import Data file from Data Wrangling Process\n",
    "\n",
    "df = pd.read_csv('Image Values.csv')\n",
    "\n",
    "df.head()"
   ]
  },
  {
   "cell_type": "code",
   "execution_count": 3,
   "metadata": {},
   "outputs": [],
   "source": [
    "df2 = df[df['Image Name'].str.contains(\"Below\")]"
   ]
  },
  {
   "cell_type": "code",
   "execution_count": 4,
   "metadata": {},
   "outputs": [],
   "source": [
    "df2 = df2.reset_index()"
   ]
  },
  {
   "cell_type": "markdown",
   "metadata": {},
   "source": [
    "# Apply pandas.get_dummies to convert categorical data to numerical"
   ]
  },
  {
   "cell_type": "code",
   "execution_count": 3,
   "metadata": {},
   "outputs": [],
   "source": [
    "# categorical_cols = ['A','B','C','D']"
   ]
  },
  {
   "cell_type": "code",
   "execution_count": 4,
   "metadata": {},
   "outputs": [],
   "source": [
    "# df2 = pd.get_dummies(df,columns = categorical_cols)"
   ]
  },
  {
   "cell_type": "code",
   "execution_count": 5,
   "metadata": {},
   "outputs": [],
   "source": [
    "# import keras\n",
    "\n",
    "# from keras.layers import Dense, Dropout, Flatten\n",
    "\n",
    "# from keras.utils import to_categorical\n",
    "# from keras.preprocessing import image\n",
    "# import numpy as np\n",
    "# import pandas as pd\n",
    "# import matplotlib.pyplot as plt\n",
    "# from sklearn.model_selection import train_test_split\n",
    "# from keras.utils import to_categorical\n",
    "\n",
    "# from keras.models import Sequential\n",
    "# from keras.layers import Dense\n",
    "\n"
   ]
  },
  {
   "cell_type": "code",
   "execution_count": 6,
   "metadata": {},
   "outputs": [],
   "source": [
    "# # Dependencies\n",
    "# import numpy as np\n",
    "# import tensorflow as tf\n",
    "\n",
    "# os.environ['KMP_DUPLICATE_LIB_OK']='True'\n",
    "\n",
    "# from tensorflow import keras\n",
    "\n",
    "# from tensorflow.keras.applications.vgg19 import (\n",
    "#     VGG19, \n",
    "#     preprocess_input, \n",
    "#     decode_predictions\n",
    "# )\n",
    "\n",
    "# from tensorflow.keras.models import Sequential\n",
    "# from keras.layers import Conv2D, MaxPooling2D\n",
    "# tf.compat.v1.reset_default_graph()"
   ]
  },
  {
   "cell_type": "code",
   "execution_count": 5,
   "metadata": {},
   "outputs": [],
   "source": [
    "from tensorflow.keras.models import Sequential\n",
    "from tensorflow.keras.layers import Conv2D\n",
    "from tensorflow.keras.layers import MaxPooling2D\n",
    "from tensorflow.keras.layers import Flatten\n",
    "from tensorflow.keras.layers import Dense\n",
    "from tensorflow.keras.layers import Dropout\n",
    "from tensorflow.keras.preprocessing import image\n",
    "from tensorflow.keras.utils import to_categorical\n",
    "from sklearn.preprocessing import LabelEncoder\n",
    "from tqdm import tqdm\n",
    "import numpy as np"
   ]
  },
  {
   "cell_type": "code",
   "execution_count": 6,
   "metadata": {},
   "outputs": [
    {
     "name": "stderr",
     "output_type": "stream",
     "text": [
      "100%|█████████████████████████████████████████████████████████████████████████████| 1040/1040 [00:05<00:00, 175.22it/s]\n"
     ]
    }
   ],
   "source": [
    "train = df2\n",
    "\n",
    "train_image = []\n",
    "for i in tqdm(range(train.shape[0])):\n",
    "    image_name = df2['Image Name'][i]\n",
    "    img = f'C:/Bootcamp/Homework/proj3-team04/HGM-4/Grayscale Below/{image_name}.jpg'\n",
    "    img = image.load_img(img,target_size=(28,28,1),color_mode = \"grayscale\")\n",
    "    img = image.img_to_array(img)\n",
    "    img = img/255\n",
    "    train_image.append(img)\n",
    "    "
   ]
  },
  {
   "cell_type": "code",
   "execution_count": 7,
   "metadata": {},
   "outputs": [],
   "source": [
    "# Convert image arrays to numpy array\n",
    "\n",
    "X = np.array(train_image)\n",
    "\n"
   ]
  },
  {
   "cell_type": "code",
   "execution_count": 8,
   "metadata": {},
   "outputs": [],
   "source": [
    "y=train['Image Value'].values\n",
    "#y = pd.get_dummies(y)\n"
   ]
  },
  {
   "cell_type": "code",
   "execution_count": 59,
   "metadata": {},
   "outputs": [],
   "source": [
    "X_train, X_test, y_train, y_test = train_test_split(X, y, random_state=42, test_size=0.2)"
   ]
  },
  {
   "cell_type": "code",
   "execution_count": 60,
   "metadata": {},
   "outputs": [],
   "source": [
    "label_encoder = LabelEncoder()\n",
    "label_encoder.fit(y_train)\n",
    "encoded_y_train = label_encoder.transform(y_train)\n",
    "encoded_y_test = label_encoder.transform(y_test)\n"
   ]
  },
  {
   "cell_type": "code",
   "execution_count": 61,
   "metadata": {},
   "outputs": [],
   "source": [
    "# y = y_cat"
   ]
  },
  {
   "cell_type": "code",
   "execution_count": 62,
   "metadata": {},
   "outputs": [],
   "source": [
    "y_train_cat = to_categorical(encoded_y_train)\n",
    "y_test_cat = to_categorical(encoded_y_test)"
   ]
  },
  {
   "cell_type": "code",
   "execution_count": 63,
   "metadata": {},
   "outputs": [],
   "source": [
    "# num_inputs = 4160\n",
    "# num_hidden_units = 1641\n",
    "# num_classes = 26\n"
   ]
  },
  {
   "cell_type": "code",
   "execution_count": null,
   "metadata": {},
   "outputs": [],
   "source": []
  },
  {
   "cell_type": "code",
   "execution_count": 64,
   "metadata": {},
   "outputs": [],
   "source": [
    "# y_train = pd.get_dummies(y_train.ravel())"
   ]
  },
  {
   "cell_type": "code",
   "execution_count": 65,
   "metadata": {},
   "outputs": [],
   "source": [
    "# y_train_cat = pd.get_dummies(y_train).values\n",
    "# y_test_cat = pd.get_dummies(y_test).values"
   ]
  },
  {
   "cell_type": "code",
   "execution_count": 66,
   "metadata": {},
   "outputs": [
    {
     "data": {
      "text/plain": [
       "(832,)"
      ]
     },
     "execution_count": 66,
     "metadata": {},
     "output_type": "execute_result"
    }
   ],
   "source": [
    "y_train.shape\n"
   ]
  },
  {
   "cell_type": "code",
   "execution_count": 67,
   "metadata": {},
   "outputs": [
    {
     "data": {
      "text/plain": [
       "(1040, 28, 28, 1)"
      ]
     },
     "execution_count": 67,
     "metadata": {},
     "output_type": "execute_result"
    }
   ],
   "source": [
    "X.shape"
   ]
  },
  {
   "cell_type": "code",
   "execution_count": 68,
   "metadata": {},
   "outputs": [],
   "source": [
    "model = Sequential()\n",
    "model.add(Conv2D(26, kernel_size=(3, 3),activation='relu',input_shape=(28, 28, 1)))\n",
    "model.add(Conv2D(128, (3, 3), activation='relu'))\n",
    "model.add(MaxPooling2D(pool_size=(2, 2)))\n",
    "#model.add(Dropout(0.25))\n",
    "model.add(Flatten())\n",
    "model.add(Dense(256, activation='relu'))\n",
    "#model.add(Dropout(0.5))\n",
    "model.add(Dense(26, activation='softmax'))"
   ]
  },
  {
   "cell_type": "code",
   "execution_count": 69,
   "metadata": {},
   "outputs": [],
   "source": [
    "# model = Sequential()\n",
    "# dense_layer = Dense(units = num_hidden_units, input_dim = num_inputs, activation = 'relu')\n",
    "# output_layer = Dense(units = 26, activation ='sigmoid')\n",
    "# model.add(dense_layer)\n",
    "# model.add(output_layer)"
   ]
  },
  {
   "cell_type": "code",
   "execution_count": 70,
   "metadata": {},
   "outputs": [
    {
     "name": "stdout",
     "output_type": "stream",
     "text": [
      "Model: \"sequential_4\"\n",
      "_________________________________________________________________\n",
      "Layer (type)                 Output Shape              Param #   \n",
      "=================================================================\n",
      "conv2d_8 (Conv2D)            (None, 26, 26, 52)        520       \n",
      "_________________________________________________________________\n",
      "conv2d_9 (Conv2D)            (None, 24, 24, 128)       60032     \n",
      "_________________________________________________________________\n",
      "max_pooling2d_4 (MaxPooling2 (None, 12, 12, 128)       0         \n",
      "_________________________________________________________________\n",
      "flatten_4 (Flatten)          (None, 18432)             0         \n",
      "_________________________________________________________________\n",
      "dense_8 (Dense)              (None, 256)               4718848   \n",
      "_________________________________________________________________\n",
      "dense_9 (Dense)              (None, 26)                6682      \n",
      "=================================================================\n",
      "Total params: 4,786,082\n",
      "Trainable params: 4,786,082\n",
      "Non-trainable params: 0\n",
      "_________________________________________________________________\n"
     ]
    }
   ],
   "source": [
    "model.summary()"
   ]
  },
  {
   "cell_type": "code",
   "execution_count": 71,
   "metadata": {},
   "outputs": [],
   "source": [
    "model.compile(optimizer='adam',\n",
    "              loss='categorical_crossentropy',\n",
    "              metrics=['accuracy'])"
   ]
  },
  {
   "cell_type": "code",
   "execution_count": 72,
   "metadata": {},
   "outputs": [
    {
     "name": "stdout",
     "output_type": "stream",
     "text": [
      "Epoch 1/20\n",
      "26/26 [==============================] - 5s 195ms/step - loss: 3.3229 - accuracy: 0.0349 - val_loss: 3.2588 - val_accuracy: 0.0337\n",
      "Epoch 2/20\n",
      "26/26 [==============================] - 5s 179ms/step - loss: 3.2583 - accuracy: 0.0409 - val_loss: 3.2596 - val_accuracy: 0.0288\n",
      "Epoch 3/20\n",
      "26/26 [==============================] - 5s 178ms/step - loss: 3.2530 - accuracy: 0.0805 - val_loss: 3.2650 - val_accuracy: 0.0481\n",
      "Epoch 4/20\n",
      "26/26 [==============================] - 5s 182ms/step - loss: 3.2022 - accuracy: 0.0817 - val_loss: 3.2708 - val_accuracy: 0.0240\n",
      "Epoch 5/20\n",
      "26/26 [==============================] - 5s 182ms/step - loss: 3.0121 - accuracy: 0.1238 - val_loss: 3.2859 - val_accuracy: 0.0337\n",
      "Epoch 6/20\n",
      "26/26 [==============================] - 5s 178ms/step - loss: 2.6881 - accuracy: 0.2200 - val_loss: 3.4178 - val_accuracy: 0.0577\n",
      "Epoch 7/20\n",
      "26/26 [==============================] - 5s 177ms/step - loss: 2.2769 - accuracy: 0.3113 - val_loss: 3.3920 - val_accuracy: 0.0673\n",
      "Epoch 8/20\n",
      "26/26 [==============================] - 5s 180ms/step - loss: 1.7807 - accuracy: 0.4844 - val_loss: 3.7105 - val_accuracy: 0.1058\n",
      "Epoch 9/20\n",
      "26/26 [==============================] - 5s 190ms/step - loss: 1.3109 - accuracy: 0.6154 - val_loss: 4.0293 - val_accuracy: 0.0962\n",
      "Epoch 10/20\n",
      "26/26 [==============================] - 5s 183ms/step - loss: 0.9240 - accuracy: 0.7440 - val_loss: 4.0709 - val_accuracy: 0.1058\n",
      "Epoch 11/20\n",
      "26/26 [==============================] - 5s 186ms/step - loss: 0.6417 - accuracy: 0.8161 - val_loss: 4.5580 - val_accuracy: 0.1250\n",
      "Epoch 12/20\n",
      "26/26 [==============================] - 5s 193ms/step - loss: 0.3986 - accuracy: 0.8918 - val_loss: 4.9900 - val_accuracy: 0.1394\n",
      "Epoch 13/20\n",
      "26/26 [==============================] - 5s 179ms/step - loss: 0.2858 - accuracy: 0.9279 - val_loss: 5.4472 - val_accuracy: 0.1587\n",
      "Epoch 14/20\n",
      "26/26 [==============================] - 5s 179ms/step - loss: 0.1998 - accuracy: 0.9591 - val_loss: 5.7017 - val_accuracy: 0.1394\n",
      "Epoch 15/20\n",
      "26/26 [==============================] - 4s 171ms/step - loss: 0.1351 - accuracy: 0.9736 - val_loss: 6.0126 - val_accuracy: 0.1779\n",
      "Epoch 16/20\n",
      "26/26 [==============================] - 5s 175ms/step - loss: 0.0783 - accuracy: 0.9856 - val_loss: 6.2296 - val_accuracy: 0.1587\n",
      "Epoch 17/20\n",
      "26/26 [==============================] - 5s 208ms/step - loss: 0.0433 - accuracy: 0.9964 - val_loss: 6.5245 - val_accuracy: 0.1683\n",
      "Epoch 18/20\n",
      "26/26 [==============================] - 6s 215ms/step - loss: 0.0292 - accuracy: 0.9976 - val_loss: 6.8105 - val_accuracy: 0.1779\n",
      "Epoch 19/20\n",
      "26/26 [==============================] - 5s 204ms/step - loss: 0.0276 - accuracy: 0.9976 - val_loss: 6.9783 - val_accuracy: 0.1827\n",
      "Epoch 20/20\n",
      "26/26 [==============================] - 5s 182ms/step - loss: 0.0250 - accuracy: 0.9976 - val_loss: 6.9747 - val_accuracy: 0.1779\n"
     ]
    },
    {
     "data": {
      "text/plain": [
       "<tensorflow.python.keras.callbacks.History at 0x205d2bbf640>"
      ]
     },
     "execution_count": 72,
     "metadata": {},
     "output_type": "execute_result"
    }
   ],
   "source": [
    "model.fit(X_train, y_train_cat, epochs=20, validation_data=(X_test, y_test_cat))"
   ]
  },
  {
   "cell_type": "code",
   "execution_count": 73,
   "metadata": {},
   "outputs": [],
   "source": [
    "encoded_predictions = model.predict_classes(X_test[:20])\n",
    "prediction_labels = label_encoder.inverse_transform(encoded_predictions)"
   ]
  },
  {
   "cell_type": "code",
   "execution_count": 74,
   "metadata": {},
   "outputs": [
    {
     "name": "stdout",
     "output_type": "stream",
     "text": [
      "Predicted classes: ['F' 'P' 'F' 'W' 'P' 'K' 'H' 'Y' 'H' 'Q' 'P' 'M' 'V' 'T' 'K' 'Z' 'S' 'W'\n",
      " 'S' 'P']\n",
      "Actual Labels    : ['D' 'P' 'E' 'A' 'Q' 'X' 'H' 'I' 'M' 'J' 'Q' 'N' 'V' 'T' 'G' 'B' 'T' 'V'\n",
      " 'I' 'P']\n"
     ]
    }
   ],
   "source": [
    "print(f\"Predicted classes: {prediction_labels}\")\n",
    "print(f\"Actual Labels    : {(y_test[:20])}\")"
   ]
  },
  {
   "cell_type": "code",
   "execution_count": null,
   "metadata": {},
   "outputs": [],
   "source": []
  }
 ],
 "metadata": {
  "kernelspec": {
   "display_name": "Python [conda env:PythonData] *",
   "language": "python",
   "name": "conda-env-PythonData-py"
  },
  "language_info": {
   "codemirror_mode": {
    "name": "ipython",
    "version": 3
   },
   "file_extension": ".py",
   "mimetype": "text/x-python",
   "name": "python",
   "nbconvert_exporter": "python",
   "pygments_lexer": "ipython3",
   "version": "3.8.3"
  }
 },
 "nbformat": 4,
 "nbformat_minor": 4
}
