{
 "cells": [
  {
   "cell_type": "code",
   "execution_count": 1,
   "metadata": {},
   "outputs": [],
   "source": [
    "import pandas as pd\n",
    "from sklearn.model_selection import train_test_split\n"
   ]
  },
  {
   "cell_type": "code",
   "execution_count": 2,
   "metadata": {},
   "outputs": [
    {
     "data": {
      "text/html": [
       "<div>\n",
       "<style scoped>\n",
       "    .dataframe tbody tr th:only-of-type {\n",
       "        vertical-align: middle;\n",
       "    }\n",
       "\n",
       "    .dataframe tbody tr th {\n",
       "        vertical-align: top;\n",
       "    }\n",
       "\n",
       "    .dataframe thead th {\n",
       "        text-align: right;\n",
       "    }\n",
       "</style>\n",
       "<table border=\"1\" class=\"dataframe\">\n",
       "  <thead>\n",
       "    <tr style=\"text-align: right;\">\n",
       "      <th></th>\n",
       "      <th>Unnamed: 0</th>\n",
       "      <th>Image Name</th>\n",
       "      <th>Image Value</th>\n",
       "    </tr>\n",
       "  </thead>\n",
       "  <tbody>\n",
       "    <tr>\n",
       "      <th>0</th>\n",
       "      <td>0</td>\n",
       "      <td>A1</td>\n",
       "      <td>A</td>\n",
       "    </tr>\n",
       "    <tr>\n",
       "      <th>1</th>\n",
       "      <td>1</td>\n",
       "      <td>A2</td>\n",
       "      <td>A</td>\n",
       "    </tr>\n",
       "    <tr>\n",
       "      <th>2</th>\n",
       "      <td>2</td>\n",
       "      <td>A3</td>\n",
       "      <td>A</td>\n",
       "    </tr>\n",
       "    <tr>\n",
       "      <th>3</th>\n",
       "      <td>3</td>\n",
       "      <td>A4</td>\n",
       "      <td>A</td>\n",
       "    </tr>\n",
       "    <tr>\n",
       "      <th>4</th>\n",
       "      <td>4</td>\n",
       "      <td>A5</td>\n",
       "      <td>A</td>\n",
       "    </tr>\n",
       "  </tbody>\n",
       "</table>\n",
       "</div>"
      ],
      "text/plain": [
       "   Unnamed: 0 Image Name Image Value\n",
       "0           0         A1           A\n",
       "1           1         A2           A\n",
       "2           2         A3           A\n",
       "3           3         A4           A\n",
       "4           4         A5           A"
      ]
     },
     "execution_count": 2,
     "metadata": {},
     "output_type": "execute_result"
    }
   ],
   "source": [
    "# Import Data file from Data Wrangling Process\n",
    "\n",
    "df = pd.read_csv('Image Values2.csv')\n",
    "\n",
    "df.head()"
   ]
  },
  {
   "cell_type": "markdown",
   "metadata": {},
   "source": [
    "# Apply pandas.get_dummies to convert categorical data to numerical"
   ]
  },
  {
   "cell_type": "code",
   "execution_count": 3,
   "metadata": {},
   "outputs": [],
   "source": [
    "from tensorflow.keras.models import Sequential\n",
    "from tensorflow.keras.layers import Conv2D\n",
    "from tensorflow.keras.layers import MaxPooling2D\n",
    "from tensorflow.keras.layers import Flatten\n",
    "from tensorflow.keras.layers import Dense\n",
    "from tensorflow.keras.layers import Dropout\n",
    "from tensorflow.keras.preprocessing import image\n",
    "from tensorflow.keras.utils import to_categorical\n",
    "from sklearn.preprocessing import LabelEncoder\n",
    "from tqdm import tqdm\n",
    "import numpy as np"
   ]
  },
  {
   "cell_type": "code",
   "execution_count": 7,
   "metadata": {},
   "outputs": [
    {
     "name": "stderr",
     "output_type": "stream",
     "text": [
      "100%|█████████████████████████████████████████████████████████████████████████████| 3000/3000 [00:03<00:00, 814.04it/s]\n",
      "100%|█████████████████████████████████████████████████████████████████████████████| 3000/3000 [00:22<00:00, 132.96it/s]\n",
      "100%|█████████████████████████████████████████████████████████████████████████████| 3000/3000 [00:22<00:00, 130.90it/s]\n",
      "100%|█████████████████████████████████████████████████████████████████████████████| 3000/3000 [00:22<00:00, 135.03it/s]\n",
      "100%|█████████████████████████████████████████████████████████████████████████████| 3000/3000 [00:22<00:00, 135.60it/s]\n",
      "100%|█████████████████████████████████████████████████████████████████████████████| 3000/3000 [00:22<00:00, 133.24it/s]\n",
      "100%|█████████████████████████████████████████████████████████████████████████████| 3000/3000 [00:22<00:00, 132.28it/s]\n",
      "100%|█████████████████████████████████████████████████████████████████████████████| 3000/3000 [00:22<00:00, 135.03it/s]\n",
      "100%|█████████████████████████████████████████████████████████████████████████████| 3000/3000 [00:22<00:00, 132.10it/s]\n",
      "100%|█████████████████████████████████████████████████████████████████████████████| 3000/3000 [00:22<00:00, 135.33it/s]\n",
      "100%|█████████████████████████████████████████████████████████████████████████████| 3000/3000 [00:22<00:00, 134.19it/s]\n",
      "100%|█████████████████████████████████████████████████████████████████████████████| 3000/3000 [00:23<00:00, 129.48it/s]\n",
      "100%|█████████████████████████████████████████████████████████████████████████████| 3000/3000 [00:22<00:00, 131.43it/s]\n",
      "100%|█████████████████████████████████████████████████████████████████████████████| 3000/3000 [00:22<00:00, 132.12it/s]\n",
      "100%|█████████████████████████████████████████████████████████████████████████████| 3000/3000 [00:22<00:00, 131.49it/s]\n",
      "100%|█████████████████████████████████████████████████████████████████████████████| 3000/3000 [00:22<00:00, 131.76it/s]\n",
      "100%|█████████████████████████████████████████████████████████████████████████████| 3000/3000 [00:22<00:00, 131.35it/s]\n",
      "100%|█████████████████████████████████████████████████████████████████████████████| 3000/3000 [00:23<00:00, 130.38it/s]\n",
      "100%|█████████████████████████████████████████████████████████████████████████████| 3000/3000 [00:22<00:00, 131.02it/s]\n",
      "100%|█████████████████████████████████████████████████████████████████████████████| 3000/3000 [00:22<00:00, 132.52it/s]\n",
      "100%|█████████████████████████████████████████████████████████████████████████████| 3000/3000 [00:22<00:00, 132.45it/s]\n",
      "100%|█████████████████████████████████████████████████████████████████████████████| 3000/3000 [00:23<00:00, 129.38it/s]\n",
      "100%|█████████████████████████████████████████████████████████████████████████████| 3000/3000 [00:22<00:00, 132.42it/s]\n",
      "100%|█████████████████████████████████████████████████████████████████████████████| 3000/3000 [00:22<00:00, 131.45it/s]\n",
      "100%|█████████████████████████████████████████████████████████████████████████████| 3000/3000 [00:23<00:00, 128.84it/s]\n",
      "100%|█████████████████████████████████████████████████████████████████████████████| 3000/3000 [00:23<00:00, 127.99it/s]\n"
     ]
    }
   ],
   "source": [
    "alphabet = ['A','B','C','D','E','F','G','H','I','J','K','L','M','N','O','P','Q','R','S','T','U','V','W','X','Y','Z']\n",
    "train = df\n",
    "train_image = []\n",
    "for letter in alphabet:\n",
    "    for i in tqdm([*range(1,3001)]):\n",
    "        img = f'C:/Bootcamp/Homework/proj3-team04/asl_alphabet_train/asl_alphabet_train/{letter}/{letter}{i}.jpg'\n",
    "        img = image.load_img(img,target_size=(28,28,3),color_mode = \"rgb\")\n",
    "        img = image.img_to_array(img)\n",
    "        img = img/255\n",
    "        train_image.append(img)\n",
    "    "
   ]
  },
  {
   "cell_type": "code",
   "execution_count": 8,
   "metadata": {},
   "outputs": [],
   "source": [
    "# Convert image arrays to numpy array\n",
    "\n",
    "X = np.array(train_image)\n",
    "\n"
   ]
  },
  {
   "cell_type": "code",
   "execution_count": 9,
   "metadata": {},
   "outputs": [],
   "source": [
    "y=train['Image Value'].values\n",
    "#y = pd.get_dummies(y)\n"
   ]
  },
  {
   "cell_type": "code",
   "execution_count": 10,
   "metadata": {},
   "outputs": [],
   "source": [
    "X_train, X_test, y_train, y_test = train_test_split(X, y, random_state=42, test_size=0.2)"
   ]
  },
  {
   "cell_type": "code",
   "execution_count": 11,
   "metadata": {},
   "outputs": [],
   "source": [
    "label_encoder = LabelEncoder()\n",
    "label_encoder.fit(y_train)\n",
    "encoded_y_train = label_encoder.transform(y_train)\n",
    "encoded_y_test = label_encoder.transform(y_test)\n"
   ]
  },
  {
   "cell_type": "code",
   "execution_count": 12,
   "metadata": {},
   "outputs": [],
   "source": [
    "y_train_cat = to_categorical(encoded_y_train)\n",
    "y_test_cat = to_categorical(encoded_y_test)"
   ]
  },
  {
   "cell_type": "code",
   "execution_count": 13,
   "metadata": {},
   "outputs": [
    {
     "data": {
      "text/plain": [
       "(62400,)"
      ]
     },
     "execution_count": 13,
     "metadata": {},
     "output_type": "execute_result"
    }
   ],
   "source": [
    "y_train.shape\n"
   ]
  },
  {
   "cell_type": "code",
   "execution_count": 14,
   "metadata": {},
   "outputs": [
    {
     "data": {
      "text/plain": [
       "(62400, 28, 28, 3)"
      ]
     },
     "execution_count": 14,
     "metadata": {},
     "output_type": "execute_result"
    }
   ],
   "source": [
    "X_train.shape"
   ]
  },
  {
   "cell_type": "code",
   "execution_count": 15,
   "metadata": {},
   "outputs": [],
   "source": [
    "model = Sequential()\n",
    "model.add(Conv2D(26, kernel_size=(3, 3),activation='relu',input_shape=(28, 28, 3)))\n",
    "model.add(Conv2D(64, (3, 3), activation='relu'))\n",
    "model.add(MaxPooling2D(pool_size=(2, 2)))\n",
    "#model.add(Dropout(0.25))\n",
    "model.add(Flatten())\n",
    "model.add(Dense(64, activation='relu'))\n",
    "#model.add(Dropout(0.5))\n",
    "model.add(Dense(26, activation='softmax'))"
   ]
  },
  {
   "cell_type": "code",
   "execution_count": 16,
   "metadata": {},
   "outputs": [
    {
     "name": "stdout",
     "output_type": "stream",
     "text": [
      "Model: \"sequential\"\n",
      "_________________________________________________________________\n",
      "Layer (type)                 Output Shape              Param #   \n",
      "=================================================================\n",
      "conv2d (Conv2D)              (None, 26, 26, 26)        728       \n",
      "_________________________________________________________________\n",
      "conv2d_1 (Conv2D)            (None, 24, 24, 64)        15040     \n",
      "_________________________________________________________________\n",
      "max_pooling2d (MaxPooling2D) (None, 12, 12, 64)        0         \n",
      "_________________________________________________________________\n",
      "flatten (Flatten)            (None, 9216)              0         \n",
      "_________________________________________________________________\n",
      "dense (Dense)                (None, 64)                589888    \n",
      "_________________________________________________________________\n",
      "dense_1 (Dense)              (None, 26)                1690      \n",
      "=================================================================\n",
      "Total params: 607,346\n",
      "Trainable params: 607,346\n",
      "Non-trainable params: 0\n",
      "_________________________________________________________________\n"
     ]
    }
   ],
   "source": [
    "model.summary()"
   ]
  },
  {
   "cell_type": "code",
   "execution_count": 17,
   "metadata": {},
   "outputs": [],
   "source": [
    "model.compile(optimizer='adam',\n",
    "              loss='categorical_crossentropy',\n",
    "              metrics=['accuracy'])"
   ]
  },
  {
   "cell_type": "code",
   "execution_count": 18,
   "metadata": {},
   "outputs": [
    {
     "name": "stdout",
     "output_type": "stream",
     "text": [
      "Epoch 1/10\n",
      "1950/1950 [==============================] - 111s 57ms/step - loss: 0.9755 - accuracy: 0.6972 - val_loss: 0.3231 - val_accuracy: 0.8938\n",
      "Epoch 2/10\n",
      "1950/1950 [==============================] - 109s 56ms/step - loss: 0.2034 - accuracy: 0.9329 - val_loss: 0.1698 - val_accuracy: 0.9431\n",
      "Epoch 3/10\n",
      "1950/1950 [==============================] - 112s 58ms/step - loss: 0.1061 - accuracy: 0.9647 - val_loss: 0.1353 - val_accuracy: 0.9526\n",
      "Epoch 4/10\n",
      "1950/1950 [==============================] - 113s 58ms/step - loss: 0.0721 - accuracy: 0.9763 - val_loss: 0.1089 - val_accuracy: 0.9607\n",
      "Epoch 5/10\n",
      "1950/1950 [==============================] - 111s 57ms/step - loss: 0.0558 - accuracy: 0.9816 - val_loss: 0.0739 - val_accuracy: 0.9756\n",
      "Epoch 6/10\n",
      "1950/1950 [==============================] - 109s 56ms/step - loss: 0.0461 - accuracy: 0.9852 - val_loss: 0.0488 - val_accuracy: 0.9833\n",
      "Epoch 7/10\n",
      "1950/1950 [==============================] - 104s 53ms/step - loss: 0.0394 - accuracy: 0.9878 - val_loss: 0.0366 - val_accuracy: 0.9874\n",
      "Epoch 8/10\n",
      "1950/1950 [==============================] - 99s 51ms/step - loss: 0.0317 - accuracy: 0.9893 - val_loss: 0.0418 - val_accuracy: 0.9859\n",
      "Epoch 9/10\n",
      "1950/1950 [==============================] - 119s 61ms/step - loss: 0.0288 - accuracy: 0.9908 - val_loss: 0.0421 - val_accuracy: 0.9864\n",
      "Epoch 10/10\n",
      "1950/1950 [==============================] - 117s 60ms/step - loss: 0.0237 - accuracy: 0.9927 - val_loss: 0.1322 - val_accuracy: 0.9649\n"
     ]
    },
    {
     "data": {
      "text/plain": [
       "<tensorflow.python.keras.callbacks.History at 0x1617f412460>"
      ]
     },
     "execution_count": 18,
     "metadata": {},
     "output_type": "execute_result"
    }
   ],
   "source": [
    "model.fit(X_train, y_train_cat, epochs=10, validation_data=(X_test, y_test_cat))"
   ]
  },
  {
   "cell_type": "code",
   "execution_count": 19,
   "metadata": {},
   "outputs": [
    {
     "name": "stdout",
     "output_type": "stream",
     "text": [
      "WARNING:tensorflow:From <ipython-input-19-d4105e9f786f>:1: Sequential.predict_classes (from tensorflow.python.keras.engine.sequential) is deprecated and will be removed after 2021-01-01.\n",
      "Instructions for updating:\n",
      "Please use instead:* `np.argmax(model.predict(x), axis=-1)`,   if your model does multi-class classification   (e.g. if it uses a `softmax` last-layer activation).* `(model.predict(x) > 0.5).astype(\"int32\")`,   if your model does binary classification   (e.g. if it uses a `sigmoid` last-layer activation).\n"
     ]
    }
   ],
   "source": [
    "encoded_predictions = model.predict_classes(X_test[:20])\n",
    "prediction_labels = label_encoder.inverse_transform(encoded_predictions)"
   ]
  },
  {
   "cell_type": "code",
   "execution_count": 20,
   "metadata": {},
   "outputs": [
    {
     "name": "stdout",
     "output_type": "stream",
     "text": [
      "Predicted classes: ['U' 'O' 'I' 'M' 'G' 'J' 'C' 'K' 'S' 'C' 'V' 'D' 'B' 'K' 'K' 'P' 'V' 'J'\n",
      " 'Q' 'N']\n",
      "Actual Labels    : ['U' 'O' 'I' 'M' 'G' 'J' 'C' 'K' 'S' 'C' 'V' 'D' 'B' 'K' 'K' 'P' 'V' 'J'\n",
      " 'Q' 'N']\n"
     ]
    }
   ],
   "source": [
    "print(f\"Predicted classes: {prediction_labels}\")\n",
    "print(f\"Actual Labels    : {(y_test[:20])}\")"
   ]
  },
  {
   "cell_type": "code",
   "execution_count": null,
   "metadata": {},
   "outputs": [],
   "source": []
  }
 ],
 "metadata": {
  "kernelspec": {
   "display_name": "Python [conda env:PythonData] *",
   "language": "python",
   "name": "conda-env-PythonData-py"
  },
  "language_info": {
   "codemirror_mode": {
    "name": "ipython",
    "version": 3
   },
   "file_extension": ".py",
   "mimetype": "text/x-python",
   "name": "python",
   "nbconvert_exporter": "python",
   "pygments_lexer": "ipython3",
   "version": "3.8.3"
  }
 },
 "nbformat": 4,
 "nbformat_minor": 4
}
